{
 "cells": [
  {
   "cell_type": "code",
   "execution_count": 1,
   "metadata": {},
   "outputs": [],
   "source": [
    "import numpy as np\n",
    "import pandas as pd\n",
    "from sklearn.linear_model import LogisticRegression\n",
    "from sklearn.model_selection import train_test_split\n",
    "from sklearn.preprocessing import StandardScaler, OneHotEncoder\n",
    "from sklearn.metrics import roc_auc_score"
   ]
  },
  {
   "cell_type": "code",
   "execution_count": 2,
   "metadata": {},
   "outputs": [
    {
     "name": "stdout",
     "output_type": "stream",
     "text": [
      "    ID    Date  Trial#  Lever  NextLever     WSLS  LeverZmax  LeverZmin  \\\n",
      "20  16  230123      21      1          1  WinStay   2.420976  -0.977182   \n",
      "21  16  230123      22      1          1  WinStay   2.825333  -1.335497   \n",
      "22  16  230123      23      1          1  WinStay   1.845744  -1.398745   \n",
      "23  16  230123      24      1          1  WinStay   1.844687  -1.285533   \n",
      "24  16  230123      25      1          1  WinStay   0.791917  -1.576015   \n",
      "\n",
      "     LeverAUC    HLZmax    HLZmin       HLauc  \n",
      "20  83.154362  2.733061 -3.425178   18.250144  \n",
      "21  48.212738  1.237365 -1.231867   -3.736264  \n",
      "22  23.342977  2.711890 -0.880507   84.757391  \n",
      "23 -17.232411  3.012229 -1.134604  117.119915  \n",
      "24 -63.758027  0.235207 -2.486015  -72.052411  \n"
     ]
    },
    {
     "name": "stderr",
     "output_type": "stream",
     "text": [
      "C:\\Users\\wonnp\\AppData\\Local\\Temp\\ipykernel_33140\\3022793693.py:7: SettingWithCopyWarning: \n",
      "A value is trying to be set on a copy of a slice from a DataFrame.\n",
      "Try using .loc[row_indexer,col_indexer] = value instead\n",
      "\n",
      "See the caveats in the documentation: https://pandas.pydata.org/pandas-docs/stable/user_guide/indexing.html#returning-a-view-versus-a-copy\n",
      "  filteredData['NextLever'] = filteredData['NextLever'].map({'Small': 0, 'Omission': 0, 'Punished': 1, 'UnPunished':1})\n",
      "C:\\Users\\wonnp\\AppData\\Local\\Temp\\ipykernel_33140\\3022793693.py:8: SettingWithCopyWarning: \n",
      "A value is trying to be set on a copy of a slice from a DataFrame.\n",
      "Try using .loc[row_indexer,col_indexer] = value instead\n",
      "\n",
      "See the caveats in the documentation: https://pandas.pydata.org/pandas-docs/stable/user_guide/indexing.html#returning-a-view-versus-a-copy\n",
      "  filteredData['Lever'] = filteredData['Lever'].map({'Small': 0, 'Punished': 1, 'UnPunished':1})\n"
     ]
    }
   ],
   "source": [
    "\n",
    "data = pd.read_csv('E:/WPPhotometer/RZ10X/High/HighWSLS_40ex.csv')\n",
    "\n",
    "removeBlocks = data[data['Trial#'] > 20]\n",
    "removeLastTrial = removeBlocks[~removeBlocks['NextLever'].isin(['End'])]\n",
    "filteredData = removeLastTrial\n",
    "\n",
    "filteredData['NextLever'] = filteredData['NextLever'].map({'Small': 0, 'Omission': 0, 'Punished': 1, 'UnPunished':1})\n",
    "filteredData['Lever'] = filteredData['Lever'].map({'Small': 0, 'Punished': 1, 'UnPunished':1})\n",
    "\n",
    "# Step 2: Display the first few rows of the DataFrame to ensure it loaded correctly\n",
    "print(filteredData.head())\n",
    "\n",
    "# Step 3: Extract the features and target\n",
    "X = filteredData[['ID', 'LeverAUC']]  # Replace 'Group ID' and 'Predictor' with your actual column names\n",
    "y = filteredData['NextLever']  # Replace 'Response' with your actual response column name\n"
   ]
  },
  {
   "cell_type": "code",
   "execution_count": 3,
   "metadata": {},
   "outputs": [
    {
     "name": "stdout",
     "output_type": "stream",
     "text": [
      "Test AUC: 0.6006134969325153\n",
      "Coefficients:\n",
      "ID: -0.0068\n",
      "LeverAUC: 0.1454\n"
     ]
    },
    {
     "name": "stderr",
     "output_type": "stream",
     "text": [
      "C:\\Users\\wonnp\\AppData\\Local\\Temp\\ipykernel_33140\\2799323132.py:13: SettingWithCopyWarning: \n",
      "A value is trying to be set on a copy of a slice from a DataFrame.\n",
      "Try using .loc[row_indexer,col_indexer] = value instead\n",
      "\n",
      "See the caveats in the documentation: https://pandas.pydata.org/pandas-docs/stable/user_guide/indexing.html#returning-a-view-versus-a-copy\n",
      "  X[['LeverAUC']] = scaler.fit_transform(X[['LeverAUC']])\n"
     ]
    }
   ],
   "source": [
    "\n",
    "# One-hot encode the GroupID\n",
    "encoder = OneHotEncoder(sparse_output=False)\n",
    "group_encoded = encoder.fit_transform(filteredData[['ID']])\n",
    "group_encoded_df = pd.DataFrame(group_encoded, columns=encoder.get_feature_names_out(['ID']))\n",
    "\n",
    "# Combine the encoded group features with the original data\n",
    "filteredData = pd.concat([filteredData, group_encoded_df], axis=1)\n",
    "filteredData.drop(['ID'], axis=1, inplace=True)\n",
    "\n",
    "\n",
    "# Standardize the continuous predictors\n",
    "scaler = StandardScaler()\n",
    "X[['LeverAUC']] = scaler.fit_transform(X[['LeverAUC']])\n",
    "\n",
    "# Split the data\n",
    "X_train, X_test, y_train, y_test = train_test_split(X, y, test_size=0.2, random_state=42)\n",
    "\n",
    "# Define and train the logistic regression model\n",
    "model = LogisticRegression(solver='lbfgs', max_iter=1000)\n",
    "model.fit(X_train, y_train)\n",
    "\n",
    "# Make predictions\n",
    "y_pred_prob = model.predict_proba(X_test)[:, 1]\n",
    "y_pred = model.predict(X_test)\n",
    "\n",
    "# Evaluate the model\n",
    "auc = roc_auc_score(y_test, y_pred_prob)\n",
    "print(f'Test AUC: {auc}')\n",
    "\n",
    "# Display the coefficients\n",
    "coef = model.coef_[0]\n",
    "features = X.columns\n",
    "\n",
    "print(\"Coefficients:\")\n",
    "for feature, coefficient in zip(features, coef):\n",
    "    print(f'{feature}: {coefficient:.4f}')"
   ]
  }
 ],
 "metadata": {
  "kernelspec": {
   "display_name": "Python 3",
   "language": "python",
   "name": "python3"
  },
  "language_info": {
   "codemirror_mode": {
    "name": "ipython",
    "version": 3
   },
   "file_extension": ".py",
   "mimetype": "text/x-python",
   "name": "python",
   "nbconvert_exporter": "python",
   "pygments_lexer": "ipython3",
   "version": "3.12.0"
  }
 },
 "nbformat": 4,
 "nbformat_minor": 2
}
